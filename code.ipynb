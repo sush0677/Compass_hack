{
  "nbformat": 4,
  "nbformat_minor": 0,
  "metadata": {
    "colab": {
      "provenance": [],
      "authorship_tag": "ABX9TyMMIk3wvNvUB4wRdTJXUkpV",
      "include_colab_link": true
    },
    "kernelspec": {
      "name": "python3",
      "display_name": "Python 3"
    },
    "language_info": {
      "name": "python"
    }
  },
  "cells": [
    {
      "cell_type": "markdown",
      "metadata": {
        "id": "view-in-github",
        "colab_type": "text"
      },
      "source": [
        "<a href=\"https://colab.research.google.com/github/sush0677/Compass_hack/blob/main/code.ipynb\" target=\"_parent\"><img src=\"https://colab.research.google.com/assets/colab-badge.svg\" alt=\"Open In Colab\"/></a>"
      ]
    },
    {
      "cell_type": "markdown",
      "source": [
        "Whisper"
      ],
      "metadata": {
        "id": "9DklZ521qntN"
      }
    },
    {
      "cell_type": "code",
      "source": [
        "!pip install openai-whisper transformers\n"
      ],
      "metadata": {
        "colab": {
          "base_uri": "https://localhost:8080/"
        },
        "id": "62fkODRcci_A",
        "outputId": "5415afe7-52d7-4ea7-ed7f-96f2fdecd37b"
      },
      "execution_count": 33,
      "outputs": [
        {
          "output_type": "stream",
          "name": "stdout",
          "text": [
            "Requirement already satisfied: openai-whisper in /usr/local/lib/python3.10/dist-packages (20231117)\n",
            "Requirement already satisfied: transformers in /usr/local/lib/python3.10/dist-packages (4.41.2)\n",
            "Requirement already satisfied: triton<3,>=2.0.0 in /usr/local/lib/python3.10/dist-packages (from openai-whisper) (2.3.0)\n",
            "Requirement already satisfied: numba in /usr/local/lib/python3.10/dist-packages (from openai-whisper) (0.58.1)\n",
            "Requirement already satisfied: numpy in /usr/local/lib/python3.10/dist-packages (from openai-whisper) (1.25.2)\n",
            "Requirement already satisfied: torch in /usr/local/lib/python3.10/dist-packages (from openai-whisper) (2.3.0+cu121)\n",
            "Requirement already satisfied: tqdm in /usr/local/lib/python3.10/dist-packages (from openai-whisper) (4.66.4)\n",
            "Requirement already satisfied: more-itertools in /usr/local/lib/python3.10/dist-packages (from openai-whisper) (10.1.0)\n",
            "Requirement already satisfied: tiktoken in /usr/local/lib/python3.10/dist-packages (from openai-whisper) (0.7.0)\n",
            "Requirement already satisfied: filelock in /usr/local/lib/python3.10/dist-packages (from transformers) (3.14.0)\n",
            "Requirement already satisfied: huggingface-hub<1.0,>=0.23.0 in /usr/local/lib/python3.10/dist-packages (from transformers) (0.23.2)\n",
            "Requirement already satisfied: packaging>=20.0 in /usr/local/lib/python3.10/dist-packages (from transformers) (24.0)\n",
            "Requirement already satisfied: pyyaml>=5.1 in /usr/local/lib/python3.10/dist-packages (from transformers) (6.0.1)\n",
            "Requirement already satisfied: regex!=2019.12.17 in /usr/local/lib/python3.10/dist-packages (from transformers) (2024.5.15)\n",
            "Requirement already satisfied: requests in /usr/local/lib/python3.10/dist-packages (from transformers) (2.31.0)\n",
            "Requirement already satisfied: tokenizers<0.20,>=0.19 in /usr/local/lib/python3.10/dist-packages (from transformers) (0.19.1)\n",
            "Requirement already satisfied: safetensors>=0.4.1 in /usr/local/lib/python3.10/dist-packages (from transformers) (0.4.3)\n",
            "Requirement already satisfied: fsspec>=2023.5.0 in /usr/local/lib/python3.10/dist-packages (from huggingface-hub<1.0,>=0.23.0->transformers) (2023.6.0)\n",
            "Requirement already satisfied: typing-extensions>=3.7.4.3 in /usr/local/lib/python3.10/dist-packages (from huggingface-hub<1.0,>=0.23.0->transformers) (4.12.1)\n",
            "Requirement already satisfied: llvmlite<0.42,>=0.41.0dev0 in /usr/local/lib/python3.10/dist-packages (from numba->openai-whisper) (0.41.1)\n",
            "Requirement already satisfied: charset-normalizer<4,>=2 in /usr/local/lib/python3.10/dist-packages (from requests->transformers) (3.3.2)\n",
            "Requirement already satisfied: idna<4,>=2.5 in /usr/local/lib/python3.10/dist-packages (from requests->transformers) (3.7)\n",
            "Requirement already satisfied: urllib3<3,>=1.21.1 in /usr/local/lib/python3.10/dist-packages (from requests->transformers) (2.0.7)\n",
            "Requirement already satisfied: certifi>=2017.4.17 in /usr/local/lib/python3.10/dist-packages (from requests->transformers) (2024.6.2)\n",
            "Requirement already satisfied: sympy in /usr/local/lib/python3.10/dist-packages (from torch->openai-whisper) (1.12.1)\n",
            "Requirement already satisfied: networkx in /usr/local/lib/python3.10/dist-packages (from torch->openai-whisper) (3.3)\n",
            "Requirement already satisfied: jinja2 in /usr/local/lib/python3.10/dist-packages (from torch->openai-whisper) (3.1.4)\n",
            "Requirement already satisfied: nvidia-cuda-nvrtc-cu12==12.1.105 in /usr/local/lib/python3.10/dist-packages (from torch->openai-whisper) (12.1.105)\n",
            "Requirement already satisfied: nvidia-cuda-runtime-cu12==12.1.105 in /usr/local/lib/python3.10/dist-packages (from torch->openai-whisper) (12.1.105)\n",
            "Requirement already satisfied: nvidia-cuda-cupti-cu12==12.1.105 in /usr/local/lib/python3.10/dist-packages (from torch->openai-whisper) (12.1.105)\n",
            "Requirement already satisfied: nvidia-cudnn-cu12==8.9.2.26 in /usr/local/lib/python3.10/dist-packages (from torch->openai-whisper) (8.9.2.26)\n",
            "Requirement already satisfied: nvidia-cublas-cu12==12.1.3.1 in /usr/local/lib/python3.10/dist-packages (from torch->openai-whisper) (12.1.3.1)\n",
            "Requirement already satisfied: nvidia-cufft-cu12==11.0.2.54 in /usr/local/lib/python3.10/dist-packages (from torch->openai-whisper) (11.0.2.54)\n",
            "Requirement already satisfied: nvidia-curand-cu12==10.3.2.106 in /usr/local/lib/python3.10/dist-packages (from torch->openai-whisper) (10.3.2.106)\n",
            "Requirement already satisfied: nvidia-cusolver-cu12==11.4.5.107 in /usr/local/lib/python3.10/dist-packages (from torch->openai-whisper) (11.4.5.107)\n",
            "Requirement already satisfied: nvidia-cusparse-cu12==12.1.0.106 in /usr/local/lib/python3.10/dist-packages (from torch->openai-whisper) (12.1.0.106)\n",
            "Requirement already satisfied: nvidia-nccl-cu12==2.20.5 in /usr/local/lib/python3.10/dist-packages (from torch->openai-whisper) (2.20.5)\n",
            "Requirement already satisfied: nvidia-nvtx-cu12==12.1.105 in /usr/local/lib/python3.10/dist-packages (from torch->openai-whisper) (12.1.105)\n",
            "Requirement already satisfied: nvidia-nvjitlink-cu12 in /usr/local/lib/python3.10/dist-packages (from nvidia-cusolver-cu12==11.4.5.107->torch->openai-whisper) (12.5.40)\n",
            "Requirement already satisfied: MarkupSafe>=2.0 in /usr/local/lib/python3.10/dist-packages (from jinja2->torch->openai-whisper) (2.1.5)\n",
            "Requirement already satisfied: mpmath<1.4.0,>=1.1.0 in /usr/local/lib/python3.10/dist-packages (from sympy->torch->openai-whisper) (1.3.0)\n"
          ]
        }
      ]
    },
    {
      "cell_type": "code",
      "source": [
        "import whisper\n",
        "from transformers import pipeline\n",
        "\n",
        "def extract_video_description(video_path):\n",
        "    # Load the pre-trained Whisper model\n",
        "    model = whisper.load_model(\"base\")\n",
        "\n",
        "    # Transcribe the video\n",
        "    result = model.transcribe(video_path)\n",
        "    transcript = result['text']\n",
        "\n",
        "    return transcript\n",
        "\n",
        "\n",
        "def translate_text(text, target_language):\n",
        "    # Load the translation pipeline with a specific model\n",
        "    if target_language == \"arabic\":\n",
        "        translator = pipeline(\"translation\", model=\"Helsinki-NLP/opus-mt-en-ar\")\n",
        "    else:\n",
        "        raise ValueError(\"Target language not supported.\")\n",
        "\n",
        "    # Split text into chunks to avoid exceeding model limits\n",
        "    max_length = 512  # Model-specific token limit\n",
        "    text_chunks = [text[i:i+max_length] for i in range(0, len(text), max_length)]\n",
        "\n",
        "    # Translate each chunk\n",
        "    translated_text = \"\"\n",
        "    for chunk in text_chunks:\n",
        "        translation = translator(chunk)\n",
        "        translated_text += translation[0]['translation_text'] + \" \"\n",
        "\n",
        "    return translated_text.strip()\n",
        "\n",
        "if __name__ == \"__main__\":\n",
        "    video_path = \"/content/English Speaking for Real Life  - How can I help you _.mp4\"  # Replace with the path to your video file\n",
        "    transcript = extract_video_description(video_path)\n",
        "    print(\"Video Transcript:\", transcript)\n",
        "    target_language = \"arabic\""
      ],
      "metadata": {
        "colab": {
          "base_uri": "https://localhost:8080/"
        },
        "id": "fbYM_seKi3Xy",
        "outputId": "b9393f4e-4dd0-42d3-e81d-f99dd85d3124"
      },
      "execution_count": 49,
      "outputs": [
        {
          "output_type": "stream",
          "name": "stderr",
          "text": [
            "WARNING:py.warnings:/usr/local/lib/python3.10/dist-packages/whisper/transcribe.py:115: UserWarning: FP16 is not supported on CPU; using FP32 instead\n",
            "  warnings.warn(\"FP16 is not supported on CPU; using FP32 instead\")\n",
            "\n"
          ]
        },
        {
          "output_type": "stream",
          "name": "stdout",
          "text": [
            "Video Transcript:  English speaking course. Excuse me, how can I help you? You've been standing here for quite a long time. Oh, my house is over there, but I cannot cross the road. Cars run so fast. I see. The traffic here is always terrible. Do you want me to cross the road with you? That is great! Thanks a lot. It is very kind of you. You are welcome. I like to help other people, especially the elderly and children. You are a good girl. You make me miss my grandmother. I have not seen her for years. Why? Because she lives abroad with my uncle. I think I will come home and make a video call with her right away. You should do that girl. I am sure your grandmother will be very happy. Thank you. Can you come home alone? Of course. Excuse me. Yes, what can I do for you? Can you show me the way to the post office? I need to send a gift to my parents. Let me see. It is quite far from here. Why don't you take a bus? I think it will be more convenient. But I do not know which bus passed by the post office. You can get on the bus number two. It will take you about 30 miles. That is a good idea. Let's sit here and wait for the bus. Okay. Thank you. Hi. I am Vivian. What's your name? My name is Serena. I am a second year student. What about you Vivian? I am a first year student. I have just come here. So I have not known much about the city. I used to, but now I can go everywhere by bus. Taking buses is not as difficult as you might think. Oh, I will try. My bus is coming. I have to go now Vivian. Okay. See you again, Serena. Good morning, madam. How can I help you? Well, I am finding a dress for a birthday party tonight. What color do you like? I like red. And a short or long dress. I think the long one will be more suitable. Please wait for a few minutes. I will find you a suitable dress. Okay. Thanks. Do you like this dress, madam? Hmm. This one is beautiful, but I do not like the sleeves. Is there anything without sleeves? Of course, madam. That is it. Do you want to try it on? Okay. I will try it on. Where is the fitting room? The fitting room is over there. What is the problem with the dress, madam? I like this one, but have you got it in a larger size? I think I have gained weight. Yes, I have, madam. Is that a good fit? It is just right. I will take it. Do you want to buy anything else? No, thanks. It is enough. How much does it cost? It is 50 US dollars. Do you want to pay in cash or by credit card? Credit card, please. This is the bill and your credit card. Thanks and see you again, madam. Sure. Thank you. Good morning, sir. How can I help you? Well, I bought a dress for my wife yesterday, but she did not like it. May I return it? I am afraid you cannot return it, but you can change it for another one. This dress did not fit her. Is it right? No, she did not like the color. Is this the only color you have? What color does she like? She likes yellow. Do you have it? Yes, sir. Please wait for a while. Here is the dress, sir. I hope she will like it. Do you want to choose anything else? A pair of shoes? Hmm. That is a good idea. So, do you know her size? Let me see. I think it is a size 37. What color does she like? She often wears black shoes. Okay. I will give a pair of black shoes in size 37. What do you think about these? They look so beautiful. I guess my wife will love them immediately. In case they do not fit her, may I change for others? Yes, but you should change for ones with equal or higher prices, sir. Okay. How much do I have to pay for these shoes? $40 US, sir. Okay. Here you are. Thank you, sir. Have a good day. Thank you. Hello. Can I help you with these documents? It seems that they are too heavy for you. Yes. But are you free now? It may take some time. Don't worry. I am not busy now. I am relaxing for a while. Okay. Thank you. I am Brian. What is your name? I am Linda. Nice to meet you, Brian. Why do you bring so many documents? Well, I am an accountant of our company. I need these documents to prepare financial statement. You look so strange, Brian. I have not seen you before. That is right. I am a new salesman in the sales department. I just arrived last week. Oh, I see. How is your first days at our company? How to say. My colleagues are so kind and friendly. I have learned much from them. If you need any help, don't mind calling me. Thanks in advance, Linda. What can I do with these documents, Linda? Can you put them on the table? Okay. Would you like another cup of coffee? No, thanks. I should go back to work now. Okay. Thank you very much, Brian. You are so kind. Do not mention it, Linda. Goodbye. See you later. Bye. What is the matter with you, Anna? You do not look well. I have a stomach ache. I have not eaten anything this morning. How can I help you? Could you buy me some bread and medicine? Of course. Wait here, Anna. Thank you, Peter. Good morning. How can I help you? I want to buy some medicine for my friend. She has a stomach ache. Well, she can take some medicine to reduce pain temporarily. After that, she should go to the hospital for further head check. How much does it cost? It is five US dollars. Here you are. Thank you. How do you feel, Anna? Is it better? Yes. I feel better now. Thanks, Peter. Never mind. We are friends. How long have you had a stomach ache? As I remember, it began last month. Why did you not tell me? I am sorry, Peter. I do not want to bother you. So silly you are. I will take you to the hospital tomorrow before it gets worse. Okay, let's do that. Anna, you should not underestimate your disease. It may get worse if you do not take care of yourself. Do you often stay up late and skip breakfast? Yes, I often stay up late to do my homework. I sometimes skip breakfast if I am in a hurry. They are not good habits, Anna. You had better change your lifestyle to have a better health. And remember to take your medicine on time. I know, doctor. Thank you. You are welcome. Thank you and see you again.\n"
          ]
        }
      ]
    },
    {
      "cell_type": "code",
      "source": [
        "translated_text = translate_text(transcript, target_language)\n",
        "print(\"Translated Text:\", translated_text)"
      ],
      "metadata": {
        "colab": {
          "base_uri": "https://localhost:8080/"
        },
        "id": "MRbJvTJgEwTg",
        "outputId": "b40cf8d6-18dd-4884-a3ae-3f394be3b45c"
      },
      "execution_count": 50,
      "outputs": [
        {
          "output_type": "stream",
          "name": "stderr",
          "text": [
            "WARNING:py.warnings:/usr/local/lib/python3.10/dist-packages/transformers/models/marian/tokenization_marian.py:175: UserWarning: Recommended: pip install sacremoses.\n",
            "  warnings.warn(\"Recommended: pip install sacremoses.\")\n",
            "\n"
          ]
        },
        {
          "output_type": "stream",
          "name": "stdout",
          "text": [
            "Translated Text: أنت تقف هنا منذ فترة طويلة. بيتي هناك، لكن لا أستطيع عبور الطريق. السيارات تجري بسرعة. أرى. حركة المرور هنا دائما سيئة. هل تريدني أن أعبر الطريق معك؟ هذا عظيم! شكرا جزيلا. هذا لطف كبير منك. أنت مرحب بك. أحب أن أساعد الآخرين، خاصة المسنين والأطفال. أنت فتاة جيدة. تجعلني أفتقد جدتي. لم أرها منذ سنوات. لماذا؟ لأنها تعيش. لأنها تعيش. مع عمي. اعتقد اني سوف اعود الى البيت واجري مكالمة فيديو معها حالا. يجب عليك ان تفعل هذه الفتاة. انا متأكد ان جدتك ستكون سعيدة جدا. شكرا لك. هل يمكنك ان تأتي الى البيت لوحدك؟ بالطبع. اعذريني. نعم ، ماذا يمكنني ان افعل لك ؟ هل يمكنك ان تريني الطريق الى مكتب البريد ؟ هل يمكنك ان تريني الطريق الى مكتب البريد ؟ اريد ان ارسل هدية الى والديّ . دعني ارى . انها بعيدة جدا عن هنا . لماذا لا تأخذ حافلة ؟ اعتقد انها ستكون اكثر ملاءمة . لكنني لا اعرف اي حافلة تمر من مكتب البريد . يمكنك ان تحصل على الباص حسناً. شكراً لكم. أنا فيفيان. ما هو اسمك؟ اسمي هو سيرينا. أنا طالب في السنة الثانية. ماذا عنك يا فيفيان؟ أنا طالب في السنة الأولى. لقد جئت للتو إلى هنا. لذلك لم أكن أعرف الكثير عن المدينة. كنت أعرف، ولكن الآن أستطيع الذهاب إلى كل مكان بالحافلة. أخذ الحافلات ليس صعباً كما قد تفكر. أوه، سأحاول. حافلتي قادمة. يجب أن أذهب الآن. حسناً. أراك مرة أخرى، سيرينا. صباح الخير. كيف يمكنني مساعدتك؟ حسناً، أنا أجد فستان لحفلة عيد ميلاد الليلة. ما هو اللون الذي تحبه؟ أحب الأحمر. ولباس قصير أو طويل. أعتقد أن اللباس الطويل سيكون أكثر ملاءمة. من فضلك انتظر لدقائق قليلة. سأجد لك لباس مناسب. حسناً. شكراً. هل يعجبك هذا الفستان يا سيدتي؟ هذا جميل، لكنني لا أحب الأكمام. هل هناك أي شيء بدون أكمام؟ بالطبع، سيدتي. هذا هو. هل تريد تجربته؟ حسناً. سأجربه. أين هي غرفة التجهيز؟ الغرفة الداخلية هناك. ما هي المشكلة مع الفستان يا سيدتي؟ أحب هذا، ولكن هل حصلت عليه في حجم أكبر؟ أعتقد أنني اكتسبت وزناً. نعم، يا سيدتي. هل هذا مناسب؟ هو صحيح. سأقبل به. هل تريد شراء أي شيء آخر؟ لا، شكراً. إنه كاف. كم يكلف؟ هو 50 دولاراً أمريكياً. هل تريد أن تدفع نقداً أو ببطاقة ائتمانية؟ بطاقة ائتمانية؟ من فضلك. هذه هي الفاتورة وبطاقتك الائتمانية. شكراً وأراك مرة أخرى يا سيدتي. شكراً لك. صباح الخير يا سيدي. كيف يمكن ذلك؟ حسناً، لقد اشتريت فستاناً لزوجتي بالأمس، لكنها لم تحبه. هل لي أن أعيده؟ أخشى أنك لا تستطيع أن تعيده، لكن يمكنك تغييره لواحد آخر. هذا الفستان لم يناسبها. هل هو صحيح؟ لا، هي لم تحب اللون. هل هذا هو اللون الوحيد الذي لديك؟ ما هو لونها؟ تحبه؟ هل هو أصفر. هل لديك؟ نعم، سيدي. انتظر لبرهة. ها هو الفستان، سيدي. أتمنى أن يعجبها. هل تريد أن تختار أي شيء آخر؟ زوج من الأحذية؟ همم. هذه فكرة جيدة. إذاً، هل هي كذلك؟ هل تعرف حجمها؟ دعني أرى. أعتقد أنه حجم 37، ما هو اللون الذي تحبه؟ إنها غالباً ما ترتدي حذاء أسود. حسناً. سأعطي زوجاً من الأحذية السوداء في حجم 37. ما رأيك في هذه؟ تبدو جميلة جداً. أعتقد أن زوجتي ستحبها على الفور. في حالة أنها لا تناسبها، هل يمكنني أن أغيرها للآخرين؟ نعم، ولكن يجب أن تغيرها لواحد بأسعار متساوية أو أعلى، سيدي. حسناً. كم علي أن أدفع مقابل هذا الحذاء؟ 40 دولار، سيدي. ها أنت ذا. شكراً لك، سيدي. أتمنى لك يوماً طيباً. شكراً لك. H. H. نعم. ولكن هل أنت حر الآن؟ قد يستغرق بعض الوقت. لا تقلق. أنا لست مشغولاً الآن. أنا أسترخي لفترة. حسناً. شكراً لك. شكراً لك. ما هو اسمك؟ أنا ليندا. سررت بلقائك يا براين. لماذا تحضر العديد من الوثائق؟ حسناً، أنا محاسب شركتنا. أنا بحاجة إلى هذه الوثائق لإعداد بيان مالي. أنت تبدو غريباً جداً يا براين. لم أرك من قبل. هذا صحيح. أنا بائع جديد في الصالة. لقد وصلت للتو الأسبوع الماضي. فهمت. كيف هي أيامك الأولى في شركتنا؟ كيف يمكن القول. زملائي لطفاء ووديون. تعلمت الكثير منهم. إذا كنت بحاجة إلى أي مساعدة، لا تمانع في الاتصال بي. شكراً مقدماً، ليندا. ماذا يمكنني أن أفعل بهذه الوثائق، ليندا؟ هل يمكنك وضعها على الطاولة؟ حسناً. هل تريد كوباً آخر من القهوة؟ لا، شكراً. يجب أن أعود إلى العمل الآن. حسناً. شكراً جزيلاً، براين. أنت لطيف جداً. لا تذكر ذلك، ليندا. وداعاً. أراك لاحقاً. إلى اللقاء. لا تبدين بخير يا (آنا) ، لدي ألم في المعدة ، لم آكل شيئاً هذا الصباح ، كيف يمكنني مساعدتكِ ؟ هل يمكنكِ أن تشتري لي بعض الخبز والدواء ؟ بالطبع ، أنتظري هنا يا (آنا) ، شكراً لكِ يا (بيتر) ، صباح الخير ، كيف يمكنني مساعدتكِ ؟ أريد شراء بعض الأدوية لصديقتي ، لديها ألم في المعدة ، حسناً ، يمكنها أن تأخذ بعض الأدوية لتخفيف الألم مؤقتاً ، بعد ذلك ، يجب أن تذهب إلى المستشفى لمزيد من الفحص الرأسي ، كم يكلف ذلك ؟ إنها خمسة دولارات ، ها أنتِ ذا شكراً لكِ، كيف تشعرين يا (آنا)؟ هل هو أفضل؟ نعم، أشعر بتحسن الآن. شكراً يا (بيتر). لا تهتمي. نحن أصدقاء. كم من الوقت كان لديكِ ألم في المعدة؟ كما أتذكر، بدأ في الشهر الماضي. لماذا لم تخبريني؟ أنا آسف يا (بيتر). أنا لا أريد أن أزعجكِ. أنتِ في غاية السخافة. سآخذكِ إلى المستشفى غداً قبل أن يسوء. حسناً، دعينا نفعل ذلك. آنا، لا ينبغي أن تقللي من مرضكِ. قد تزداد سوءاً إذا لم تهتمي بنفسكِ. هل غالباً ما تبقين مستيقظة لوقت متأخر وتتركين الانفصال؟ نعم، غالباً ما أبقى مستيقظاً لوقت متأخر لأؤدي واجبي المدرسي، أحياناً أتغيب عن الفطور إن كنت مستعجلاً، إنها ليست عادات جيدة يا (آنا)، من الأفضل أن تغيري أسلوب حياتك لتنعمي بصحة أفضل. وتذكري أن تأخذي دوائك في الوقت المناسب. أعلم يا دكتورة، شكراً لكِ، على الرحب والسعة، شكراً لكِ وأراكِ مجدداً.\n"
          ]
        }
      ]
    },
    {
      "cell_type": "code",
      "source": [
        "!pip install moviepy pydub transformers\n"
      ],
      "metadata": {
        "colab": {
          "base_uri": "https://localhost:8080/"
        },
        "id": "BPgGwz3rBAUX",
        "outputId": "e302420c-ffdb-4a26-c22c-272bcdd8fa8a"
      },
      "execution_count": 36,
      "outputs": [
        {
          "output_type": "stream",
          "name": "stdout",
          "text": [
            "Requirement already satisfied: moviepy in /usr/local/lib/python3.10/dist-packages (1.0.3)\n",
            "Requirement already satisfied: pydub in /usr/local/lib/python3.10/dist-packages (0.25.1)\n",
            "Requirement already satisfied: transformers in /usr/local/lib/python3.10/dist-packages (4.41.2)\n",
            "Requirement already satisfied: decorator<5.0,>=4.0.2 in /usr/local/lib/python3.10/dist-packages (from moviepy) (4.4.2)\n",
            "Requirement already satisfied: tqdm<5.0,>=4.11.2 in /usr/local/lib/python3.10/dist-packages (from moviepy) (4.66.4)\n",
            "Requirement already satisfied: requests<3.0,>=2.8.1 in /usr/local/lib/python3.10/dist-packages (from moviepy) (2.31.0)\n",
            "Requirement already satisfied: proglog<=1.0.0 in /usr/local/lib/python3.10/dist-packages (from moviepy) (0.1.10)\n",
            "Requirement already satisfied: numpy>=1.17.3 in /usr/local/lib/python3.10/dist-packages (from moviepy) (1.25.2)\n",
            "Requirement already satisfied: imageio<3.0,>=2.5 in /usr/local/lib/python3.10/dist-packages (from moviepy) (2.31.6)\n",
            "Requirement already satisfied: imageio-ffmpeg>=0.2.0 in /usr/local/lib/python3.10/dist-packages (from moviepy) (0.5.1)\n",
            "Requirement already satisfied: filelock in /usr/local/lib/python3.10/dist-packages (from transformers) (3.14.0)\n",
            "Requirement already satisfied: huggingface-hub<1.0,>=0.23.0 in /usr/local/lib/python3.10/dist-packages (from transformers) (0.23.2)\n",
            "Requirement already satisfied: packaging>=20.0 in /usr/local/lib/python3.10/dist-packages (from transformers) (24.0)\n",
            "Requirement already satisfied: pyyaml>=5.1 in /usr/local/lib/python3.10/dist-packages (from transformers) (6.0.1)\n",
            "Requirement already satisfied: regex!=2019.12.17 in /usr/local/lib/python3.10/dist-packages (from transformers) (2024.5.15)\n",
            "Requirement already satisfied: tokenizers<0.20,>=0.19 in /usr/local/lib/python3.10/dist-packages (from transformers) (0.19.1)\n",
            "Requirement already satisfied: safetensors>=0.4.1 in /usr/local/lib/python3.10/dist-packages (from transformers) (0.4.3)\n",
            "Requirement already satisfied: fsspec>=2023.5.0 in /usr/local/lib/python3.10/dist-packages (from huggingface-hub<1.0,>=0.23.0->transformers) (2023.6.0)\n",
            "Requirement already satisfied: typing-extensions>=3.7.4.3 in /usr/local/lib/python3.10/dist-packages (from huggingface-hub<1.0,>=0.23.0->transformers) (4.12.1)\n",
            "Requirement already satisfied: pillow<10.1.0,>=8.3.2 in /usr/local/lib/python3.10/dist-packages (from imageio<3.0,>=2.5->moviepy) (9.4.0)\n",
            "Requirement already satisfied: setuptools in /usr/local/lib/python3.10/dist-packages (from imageio-ffmpeg>=0.2.0->moviepy) (67.7.2)\n",
            "Requirement already satisfied: charset-normalizer<4,>=2 in /usr/local/lib/python3.10/dist-packages (from requests<3.0,>=2.8.1->moviepy) (3.3.2)\n",
            "Requirement already satisfied: idna<4,>=2.5 in /usr/local/lib/python3.10/dist-packages (from requests<3.0,>=2.8.1->moviepy) (3.7)\n",
            "Requirement already satisfied: urllib3<3,>=1.21.1 in /usr/local/lib/python3.10/dist-packages (from requests<3.0,>=2.8.1->moviepy) (2.0.7)\n",
            "Requirement already satisfied: certifi>=2017.4.17 in /usr/local/lib/python3.10/dist-packages (from requests<3.0,>=2.8.1->moviepy) (2024.6.2)\n"
          ]
        }
      ]
    },
    {
      "cell_type": "code",
      "source": [
        "import moviepy.editor as mp\n",
        "from pydub import AudioSegment\n",
        "from pydub.effects import normalize\n",
        "import whisper\n",
        "from transformers import pipeline\n",
        "\n",
        "def extract_audio_from_video(video_path, audio_path):\n",
        "    video = mp.VideoFileClip(video_path)\n",
        "    video.audio.write_audiofile(audio_path)\n",
        "\n",
        "def enhance_audio(input_audio_path, output_audio_path):\n",
        "    audio = AudioSegment.from_file(input_audio_path)\n",
        "    normalized_audio = normalize(audio)\n",
        "    normalized_audio.export(output_audio_path, format=\"wav\")\n",
        "\n",
        "if __name__ == \"__main__\":\n",
        "    audio_path = \"extracted_audio.wav\"\n",
        "    enhanced_audio_path = \"enhanced_audio.wav\"\n",
        "\n",
        "    extract_audio_from_video(video_path, audio_path)\n",
        "    enhance_audio(audio_path, enhanced_audio_path)\n"
      ],
      "metadata": {
        "colab": {
          "base_uri": "https://localhost:8080/"
        },
        "id": "lC5SqwPYA9aX",
        "outputId": "2c633b8e-d1a8-4fd0-d3a8-26ed17d85d77"
      },
      "execution_count": 37,
      "outputs": [
        {
          "output_type": "stream",
          "name": "stdout",
          "text": [
            "MoviePy - Writing audio in extracted_audio.wav\n"
          ]
        },
        {
          "output_type": "stream",
          "name": "stderr",
          "text": []
        },
        {
          "output_type": "stream",
          "name": "stdout",
          "text": [
            "MoviePy - Done.\n"
          ]
        },
        {
          "output_type": "stream",
          "name": "stderr",
          "text": [
            "WARNING:py.warnings:/usr/local/lib/python3.10/dist-packages/whisper/transcribe.py:115: UserWarning: FP16 is not supported on CPU; using FP32 instead\n",
            "  warnings.warn(\"FP16 is not supported on CPU; using FP32 instead\")\n",
            "\n"
          ]
        },
        {
          "output_type": "stream",
          "name": "stdout",
          "text": [
            "Video Transcript:  English speaking course. Excuse me, how can I help you? You've been standing here for quite a long time. Oh, my house is over there, but I cannot cross the road. Cars run so fast. I see. The traffic here is always terrible. Do you want me to cross the road with you? That is great! Thanks a lot. It is very kind of you. You are welcome. I like to help other people, especially the elderly and children. You are a good girl. You make me miss my grandmother. I have not seen her for years. Why? Because she lives abroad with my uncle. I think I will come home and make a video call with her right away. You should do that girl. I am sure your grandmother will be very happy. Thank you. Can you come home alone? Of course. Excuse me. Yes, what can I do for you? Can you show me the way to the post office? I need to send a gift to my parents. Let me see. It is quite far from here. Why don't you take a bus? I think it will be more convenient. But I do not know which bus passed by the post office. You can get on the bus number two. It will take you about 30 miles. That is a good idea. Let's sit here and wait for the bus. Okay. Thank you. Hi. I am Vivian. What's your name? My name is Serena. I am a second year student. What about you Vivian? I am a first year student. I have just come here. So I have not known much about the city. I used to, but now I can go everywhere by bus. Taking buses is not as difficult as you might think. Oh, I will try. My bus is coming. I have to go now Vivian. Okay. See you again, Serena. Good morning, madam. How can I help you? Well, I am finding a dress for a birthday party tonight. What color do you like? I like red. And a short or long dress. I think the long one will be more suitable. Please wait for a few minutes. I will find you a suitable dress. Okay. Thanks. Do you like this dress, madam? Hmm. This one is beautiful, but I do not like the sleeves. Is there anything without sleeves? Of course, madam. That is it. Do you want to try it on? Okay. I will try it on. Where is the fitting room? The fitting room is over there. What is the problem with the dress, madam? I like this one, but have you got it in a larger size? I think I have gained weight. Yes, I have, madam. Is that a good fit? It is just right. I will take it. Do you want to buy anything else? No, thanks. It is enough. How much does it cost? It is 50 US dollars. Do you want to pay in cash or by credit card? Credit card, please. This is the bill and your credit card. Thanks and see you again, madam. Sure. Thank you. Good morning, sir. How can I help you? Well, I bought a dress for my wife yesterday, but she did not like it. May I return it? I am afraid you cannot return it, but you can change it for another one. This dress did not fit her. Is it right? No, she did not like the color. Is this the only color you have? What color does she like? She likes yellow. Do you have it? Yes, sir. Please wait for a while. Here is the dress, sir. I hope she will like it. Do you want to choose anything else? A pair of shoes? Hmm. That is a good idea. So, do you know her size? Let me see. I think it is a size 37. What color does she like? She often wears black shoes. Okay. I will give a pair of black shoes in size 37. What do you think about these? They look so beautiful. I guess my wife will love them immediately. In case they do not fit her, may I change for others? Yes, but you should change for ones with equal or higher prices, sir. Okay. How much do I have to pay for these shoes? $40, sir. Okay. Here you are. Thank you, sir. Have a good day. Thank you. Hello. Can I help you with these documents? It seems that they are too heavy for you. Yes. But are you free now? It may take some time. Don't worry. I am not busy now. I am relaxing for a while. Okay. Thank you. I am Brian. What is your name? I am Linda. Nice to meet you, Brian. Why do you bring so many documents? Well, I am an accountant of our company. I need these documents to prepare for a financial statement. You look so strange, Brian. I have not seen you before. That is right. I am a new salesman in the sales department. I had just arrived last week. Oh, I see. How is your first days at our company? How to say. My colleagues are so kind and friendly. I have learned much from them. If you need any help, don't mind calling me. Thanks in advance, Linda. What can I do with these documents, Linda? Can you put them on the table? Okay. Would you like another cup of coffee? No, thanks. I should go back to work now. Okay. Thank you very much, Brian. You are so kind. Do not mention it, Linda. Goodbye. See you later. Bye. What is the matter with you, Anna? You do not look well. I have a stomach ache. I have not eaten anything this morning. How can I help you? Could you buy me some bread and medicine? Of course. Wait here, Anna. Thank you, Peter. Good morning. How can I help you? I want to buy some medicine for my friend. She has a stomach ache. Well, she can take some medicine to reduce pain temporarily. After that, she should go to the hospital for further head check. How much does it cost? It is five US dollars. Here you are. Thank you. How do you feel, Anna? Is it better? Yes. I feel better now. Thanks, Peter. Never mind. We are friends. How long have you had a stomach ache? As I remember, it began last month. Why did you not tell me? I'm sorry, Peter. I do not want to bother you. So silly you are. I will take you to the hospital tomorrow before it gets worse. Okay, let's do that. Anna, you should not underestimate your disease. It may get worse if you do not take care of yourself. Do you often stay up late and skip breakfast? Yes, I often stay up late to do my homework. I sometimes skip breakfast if I am in a hurry. They are not good habits, Anna. You had better change your lifestyle to have a better health. And remember to take your medicine on time. I know, doctor. Thank you. You are welcome. Thank you and see you again.\n"
          ]
        }
      ]
    },
    {
      "cell_type": "code",
      "source": [
        "def extract_video_description_with_timestamps(video_path):\n",
        "    # Load the pre-trained Whisper model\n",
        "    model = whisper.load_model(\"base\")\n",
        "\n",
        "    # Transcribe the video with timestamps\n",
        "    result = model.transcribe(video_path)\n",
        "    segments = result['segments']\n",
        "\n",
        "    return segments\n",
        "\n",
        "def format_captions(segments):\n",
        "    captions = []\n",
        "    for segment in segments:\n",
        "        start_time = segment['start']\n",
        "        end_time = segment['end']\n",
        "        text = segment['text']\n",
        "        captions.append({\n",
        "            'start': start_time,\n",
        "            'end': end_time,\n",
        "            'text': text\n",
        "        })\n",
        "    return captions\n",
        "\n",
        "segments = extract_video_description_with_timestamps(video_path)\n",
        "captions = format_captions(segments)\n",
        "\n",
        "for caption in captions:\n",
        "        start = caption['start']\n",
        "        end = caption['end']\n",
        "        text = caption['text']\n",
        "        print(f\"[{start:.2f} - {end:.2f}] {text}\")\n",
        "\n",
        "    # Optionally, save captions to a file (e.g., SRT format)\n",
        "with open('/content/captions.srt', 'w') as f:\n",
        "        for i, caption in enumerate(captions, start=1):\n",
        "            start = caption['start']\n",
        "            end = caption['end']\n",
        "            text = caption['text']\n",
        "            start_h, start_m, start_s = int(start // 3600), int((start % 3600) // 60), start % 60\n",
        "            end_h, end_m, end_s = int(end // 3600), int((end % 3600) // 60), end % 60\n",
        "            f.write(f\"{i}\\n\")\n",
        "            f.write(f\"{start_h:02}:{start_m:02}:{start_s:06.3f} --> {end_h:02}:{end_m:02}:{end_s:06.3f}\\n\")\n",
        "            f.write(f\"{text}\\n\\n\")\n",
        "\n",
        "print(\"Captions saved to /content/captions.srt\")"
      ],
      "metadata": {
        "colab": {
          "base_uri": "https://localhost:8080/"
        },
        "id": "-vuAGCbMy-cd",
        "outputId": "7103b962-e8bd-4959-fa76-008725b4f7ad"
      },
      "execution_count": 22,
      "outputs": [
        {
          "output_type": "stream",
          "name": "stderr",
          "text": [
            "/usr/local/lib/python3.10/dist-packages/whisper/transcribe.py:115: UserWarning: FP16 is not supported on CPU; using FP32 instead\n",
            "  warnings.warn(\"FP16 is not supported on CPU; using FP32 instead\")\n"
          ]
        },
        {
          "output_type": "stream",
          "name": "stdout",
          "text": [
            "[0.00 - 7.00]  English speaking course.\n",
            "[7.00 - 21.00]  Excuse me, how can I help you? You've been standing here for quite a long time.\n",
            "[22.00 - 31.00]  Oh, my house is over there, but I cannot cross the road. Cars run so fast.\n",
            "[31.00 - 39.00]  I see. The traffic here is always terrible. Do you want me to cross the road with you?\n",
            "[39.00 - 42.00]  That is great!\n",
            "[52.00 - 57.00]  Thanks a lot. It is very kind of you.\n",
            "[57.00 - 64.00]  You are welcome. I like to help other people, especially the elderly and children.\n",
            "[64.00 - 72.00]  You are a good girl. You make me miss my grandmother. I have not seen her for years.\n",
            "[72.00 - 78.00]  Why? Because she lives abroad with my uncle.\n",
            "[78.00 - 83.00]  I think I will come home and make a video call with her right away.\n",
            "[83.00 - 85.00]  You should do that girl.\n",
            "[85.00 - 89.00]  I am sure your grandmother will be very happy.\n",
            "[89.00 - 95.00]  Thank you. Can you come home alone? Of course.\n",
            "[102.00 - 104.00]  Excuse me.\n",
            "[104.00 - 107.00]  Yes, what can I do for you?\n",
            "[107.00 - 114.00]  Can you show me the way to the post office? I need to send a gift to my parents.\n",
            "[114.00 - 123.00]  Let me see. It is quite far from here. Why don't you take a bus? I think it will be more convenient.\n",
            "[123.00 - 129.00]  But I do not know which bus passed by the post office.\n",
            "[129.00 - 136.00]  You can get on the bus number two. It will take you about 30 miles.\n",
            "[136.00 - 141.00]  That is a good idea. Let's sit here and wait for the bus.\n",
            "[141.00 - 144.00]  Okay. Thank you.\n",
            "[144.00 - 148.00]  Hi. I am Vivian. What's your name?\n",
            "[148.00 - 154.00]  My name is Serena. I am a second year student. What about you Vivian?\n",
            "[154.00 - 161.00]  I am a first year student. I have just come here. So I have not known much about the city.\n",
            "[161.00 - 166.00]  I used to, but now I can go everywhere by bus.\n",
            "[166.00 - 170.00]  Taking buses is not as difficult as you might think.\n",
            "[170.00 - 173.00]  Oh, I will try.\n",
            "[177.00 - 181.00]  My bus is coming. I have to go now Vivian.\n",
            "[181.00 - 185.00]  Okay. See you again, Serena.\n",
            "[191.00 - 199.00]  Good morning, madam. How can I help you?\n",
            "[199.00 - 205.00]  Well, I am finding a dress for a birthday party tonight.\n",
            "[205.00 - 213.00]  What color do you like? I like red. And a short or long dress.\n",
            "[213.00 - 217.00]  I think the long one will be more suitable.\n",
            "[217.00 - 224.00]  Please wait for a few minutes. I will find you a suitable dress.\n",
            "[224.00 - 227.00]  Okay. Thanks.\n",
            "[227.00 - 230.00]  Do you like this dress, madam?\n",
            "[230.00 - 235.00]  Hmm. This one is beautiful, but I do not like the sleeves.\n",
            "[235.00 - 238.00]  Is there anything without sleeves?\n",
            "[238.00 - 241.00]  Of course, madam.\n",
            "[241.00 - 246.00]  That is it. Do you want to try it on?\n",
            "[246.00 - 250.00]  Okay. I will try it on. Where is the fitting room?\n",
            "[250.00 - 253.00]  The fitting room is over there.\n",
            "[253.00 - 259.00]  What is the problem with the dress, madam?\n",
            "[259.00 - 264.00]  I like this one, but have you got it in a larger size?\n",
            "[264.00 - 267.00]  I think I have gained weight.\n",
            "[267.00 - 271.00]  Yes, I have, madam.\n",
            "[271.00 - 276.00]  Is that a good fit?\n",
            "[276.00 - 280.00]  It is just right. I will take it.\n",
            "[280.00 - 283.00]  Do you want to buy anything else?\n",
            "[283.00 - 289.00]  No, thanks. It is enough. How much does it cost?\n",
            "[289.00 - 295.00]  It is 50 US dollars. Do you want to pay in cash or by credit card?\n",
            "[295.00 - 299.00]  Credit card, please.\n",
            "[300.00 - 303.00]  This is the bill and your credit card.\n",
            "[303.00 - 306.00]  Thanks and see you again, madam.\n",
            "[306.00 - 309.00]  Sure. Thank you.\n",
            "[316.00 - 320.00]  Good morning, sir. How can I help you?\n",
            "[320.00 - 326.00]  Well, I bought a dress for my wife yesterday, but she did not like it.\n",
            "[326.00 - 328.00]  May I return it?\n",
            "[328.00 - 334.00]  I am afraid you cannot return it, but you can change it for another one.\n",
            "[334.00 - 338.00]  This dress did not fit her. Is it right?\n",
            "[338.00 - 344.00]  No, she did not like the color. Is this the only color you have?\n",
            "[344.00 - 347.00]  What color does she like?\n",
            "[347.00 - 350.00]  She likes yellow. Do you have it?\n",
            "[350.00 - 354.00]  Yes, sir. Please wait for a while.\n",
            "[354.00 - 358.00]  Here is the dress, sir. I hope she will like it.\n",
            "[358.00 - 362.00]  Do you want to choose anything else? A pair of shoes?\n",
            "[362.00 - 365.00]  Hmm. That is a good idea.\n",
            "[365.00 - 368.00]  So, do you know her size?\n",
            "[368.00 - 373.00]  Let me see. I think it is a size 37.\n",
            "[373.00 - 376.00]  What color does she like?\n",
            "[376.00 - 379.00]  She often wears black shoes.\n",
            "[379.00 - 385.00]  Okay. I will give a pair of black shoes in size 37.\n",
            "[385.00 - 388.00]  What do you think about these?\n",
            "[388.00 - 394.00]  They look so beautiful. I guess my wife will love them immediately.\n",
            "[394.00 - 398.00]  In case they do not fit her, may I change for others?\n",
            "[398.00 - 403.00]  Yes, but you should change for ones with equal or higher prices, sir.\n",
            "[403.00 - 408.00]  Okay. How much do I have to pay for these shoes?\n",
            "[408.00 - 411.00]  $40 US, sir.\n",
            "[411.00 - 414.00]  Okay. Here you are.\n",
            "[414.00 - 417.00]  Thank you, sir. Have a good day.\n",
            "[417.00 - 420.00]  Thank you.\n",
            "[425.00 - 429.00]  Hello. Can I help you with these documents?\n",
            "[429.00 - 432.00]  It seems that they are too heavy for you.\n",
            "[432.00 - 435.00]  Yes. But are you free now?\n",
            "[435.00 - 437.00]  It may take some time.\n",
            "[437.00 - 442.00]  Don't worry. I am not busy now. I am relaxing for a while.\n",
            "[442.00 - 445.00]  Okay. Thank you.\n",
            "[445.00 - 448.00]  I am Brian. What is your name?\n",
            "[448.00 - 452.00]  I am Linda. Nice to meet you, Brian.\n",
            "[452.00 - 456.00]  Why do you bring so many documents?\n",
            "[456.00 - 459.00]  Well, I am an accountant of our company.\n",
            "[459.00 - 463.00]  I need these documents to prepare financial statement.\n",
            "[463.00 - 466.00]  You look so strange, Brian.\n",
            "[466.00 - 469.00]  I have not seen you before.\n",
            "[469.00 - 473.00]  That is right. I am a new salesman in the sales department.\n",
            "[473.00 - 476.00]  I just arrived last week.\n",
            "[476.00 - 480.00]  Oh, I see. How is your first days at our company?\n",
            "[480.00 - 484.00]  How to say. My colleagues are so kind and friendly.\n",
            "[484.00 - 487.00]  I have learned much from them.\n",
            "[487.00 - 491.00]  If you need any help, don't mind calling me.\n",
            "[491.00 - 494.00]  Thanks in advance, Linda.\n",
            "[497.00 - 500.00]  What can I do with these documents, Linda?\n",
            "[500.00 - 503.00]  Can you put them on the table?\n",
            "[503.00 - 505.00]  Okay.\n",
            "[505.00 - 509.00]  Would you like another cup of coffee?\n",
            "[509.00 - 513.00]  No, thanks. I should go back to work now.\n",
            "[513.00 - 518.00]  Okay. Thank you very much, Brian. You are so kind.\n",
            "[518.00 - 520.00]  Do not mention it, Linda.\n",
            "[520.00 - 523.00]  Goodbye. See you later.\n",
            "[523.00 - 525.00]  Bye.\n",
            "[526.00 - 536.00]  What is the matter with you, Anna? You do not look well.\n",
            "[536.00 - 542.00]  I have a stomach ache. I have not eaten anything this morning.\n",
            "[542.00 - 545.00]  How can I help you?\n",
            "[545.00 - 548.00]  Could you buy me some bread and medicine?\n",
            "[548.00 - 552.00]  Of course. Wait here, Anna.\n",
            "[552.00 - 555.00]  Thank you, Peter.\n",
            "[556.00 - 563.00]  Good morning. How can I help you?\n",
            "[563.00 - 568.00]  I want to buy some medicine for my friend. She has a stomach ache.\n",
            "[568.00 - 573.00]  Well, she can take some medicine to reduce pain temporarily.\n",
            "[573.00 - 578.00]  After that, she should go to the hospital for further head check.\n",
            "[578.00 - 581.00]  How much does it cost?\n",
            "[581.00 - 584.00]  It is five US dollars.\n",
            "[584.00 - 588.00]  Here you are. Thank you.\n",
            "[596.00 - 600.00]  How do you feel, Anna? Is it better?\n",
            "[600.00 - 604.00]  Yes. I feel better now. Thanks, Peter.\n",
            "[604.00 - 608.00]  Never mind. We are friends.\n",
            "[608.00 - 611.00]  How long have you had a stomach ache?\n",
            "[611.00 - 615.00]  As I remember, it began last month.\n",
            "[615.00 - 618.00]  Why did you not tell me?\n",
            "[618.00 - 622.00]  I am sorry, Peter. I do not want to bother you.\n",
            "[622.00 - 625.00]  So silly you are.\n",
            "[625.00 - 629.00]  I will take you to the hospital tomorrow before it gets worse.\n",
            "[629.00 - 633.00]  Okay, let's do that.\n",
            "[634.00 - 645.00]  Anna, you should not underestimate your disease.\n",
            "[645.00 - 650.00]  It may get worse if you do not take care of yourself.\n",
            "[650.00 - 655.00]  Do you often stay up late and skip breakfast?\n",
            "[655.00 - 658.00]  Yes, I often stay up late to do my homework.\n",
            "[659.00 - 663.00]  I sometimes skip breakfast if I am in a hurry.\n",
            "[663.00 - 665.00]  They are not good habits, Anna.\n",
            "[665.00 - 669.00]  You had better change your lifestyle to have a better health.\n",
            "[669.00 - 672.00]  And remember to take your medicine on time.\n",
            "[672.00 - 675.00]  I know, doctor. Thank you.\n",
            "[675.00 - 679.00]  You are welcome.\n",
            "[688.00 - 691.00]  Thank you and see you again.\n",
            "Captions saved to /content/captions.srt\n"
          ]
        }
      ]
    }
  ]
}